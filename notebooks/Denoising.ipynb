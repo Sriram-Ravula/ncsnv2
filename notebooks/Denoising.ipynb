{
 "cells": [
  {
   "cell_type": "code",
   "execution_count": null,
   "id": "53edb0cd",
   "metadata": {},
   "outputs": [],
   "source": [
    "import numpy as np\n",
    "import torch\n",
    "import matplotlib\n",
    "import matplotlib.pyplot as plt\n",
    "\n",
    "import torchvision\n",
    "from torchvision import transforms"
   ]
  },
  {
   "cell_type": "markdown",
   "id": "c3043c73",
   "metadata": {},
   "source": [
    "## Grab the test data and visualise"
   ]
  },
  {
   "cell_type": "code",
   "execution_count": null,
   "id": "eb481bdd",
   "metadata": {},
   "outputs": [],
   "source": [
    "data_path = \"/home/sravula/experiments/datasets/8047_vel_imgs.npy\""
   ]
  },
  {
   "cell_type": "code",
   "execution_count": null,
   "id": "1bd90e23",
   "metadata": {},
   "outputs": [],
   "source": [
    "from datasets.velocity_fine import Velocity\n",
    "\n",
    "tran_transform = transforms.Compose([\n",
    "    transforms.Resize([256, 256])\n",
    "])\n",
    "\n",
    "dataset = Velocity(path=data_path, transform=tran_transform)"
   ]
  },
  {
   "cell_type": "code",
   "execution_count": null,
   "id": "bdafe7ac",
   "metadata": {},
   "outputs": [],
   "source": [
    "N = len(dataset)\n",
    "indices = list(range(N))\n",
    "random_state = np.random.get_state()\n",
    "np.random.seed(2240)\n",
    "np.random.shuffle(indices)\n",
    "np.random.set_state(random_state)\n",
    "train_indices, test_indices = indices[:int(N * 0.9)], indices[int(N * 0.9):]"
   ]
  },
  {
   "cell_type": "code",
   "execution_count": null,
   "id": "dabc5d7f",
   "metadata": {},
   "outputs": [],
   "source": [
    "test_dataset = torch.utils.data.Subset(dataset, test_indices)"
   ]
  },
  {
   "cell_type": "code",
   "execution_count": null,
   "id": "e2dfcf2a",
   "metadata": {},
   "outputs": [],
   "source": [
    "test_loader = torch.utils.data.DataLoader(test_dataset, batch_size=15, shuffle=False,\n",
    "                         num_workers=8, drop_last=True)\n",
    "\n",
    "test_iter = iter(test_loader)\n",
    "\n",
    "test_sample = next(test_iter)[0]"
   ]
  },
  {
   "cell_type": "code",
   "execution_count": null,
   "id": "a01384ad",
   "metadata": {},
   "outputs": [],
   "source": [
    "grid_img = torchvision.utils.make_grid(test_sample, nrow=5)\n",
    "\n",
    "dpi = matplotlib.rcParams['figure.dpi']\n",
    "\n",
    "height = width = 6*256\n",
    "figsize = width / float(dpi), height / float(dpi)\n",
    "\n",
    "plt.figure(figsize=figsize)\n",
    "plt.imshow(grid_img.permute(1, 2, 0))\n",
    "plt.show()"
   ]
  },
  {
   "cell_type": "markdown",
   "id": "eaa4f20c",
   "metadata": {},
   "source": [
    "## Noise the test data and visualise"
   ]
  },
  {
   "cell_type": "code",
   "execution_count": null,
   "id": "3f7c7cd1",
   "metadata": {},
   "outputs": [],
   "source": [
    "noisy_test_sample = test_sample + 0.3*torch.randn(test_sample.size())\n",
    "noisy_test_sample = torch.clip(noisy_test_sample, min=0, max=1)"
   ]
  },
  {
   "cell_type": "code",
   "execution_count": null,
   "id": "17281992",
   "metadata": {},
   "outputs": [],
   "source": [
    "grid_img = torchvision.utils.make_grid(noisy_test_sample, nrow=5)\n",
    "\n",
    "dpi = matplotlib.rcParams['figure.dpi']\n",
    "\n",
    "height = width = 6*256\n",
    "figsize = width / float(dpi), height / float(dpi)\n",
    "\n",
    "plt.figure(figsize=figsize)\n",
    "plt.imshow(grid_img.permute(1, 2, 0))\n",
    "plt.show()"
   ]
  },
  {
   "cell_type": "markdown",
   "id": "c6f02f03",
   "metadata": {},
   "source": [
    "## Load the network and perform Langevin dynamics on the noisy images"
   ]
  },
  {
   "cell_type": "code",
   "execution_count": null,
   "id": "8aefa5c7",
   "metadata": {},
   "outputs": [],
   "source": [
    "ckpt_path = \"/home/sravula/experiments/logs/run_2/checkpoint.pth\"\n",
    "config_path = \"/home/sravula/ncsnv2/configs/velocity.yml\""
   ]
  },
  {
   "cell_type": "code",
   "execution_count": null,
   "id": "e2ddd4c0",
   "metadata": {},
   "outputs": [],
   "source": [
    "import argparse\n",
    "from main import dict2namespace\n",
    "import yaml\n",
    "\n",
    "with open(config_path, 'r') as f:\n",
    "    config = yaml.load(f)\n",
    "new_config = dict2namespace(config)\n",
    "\n",
    "device = torch.device('cuda') if torch.cuda.is_available() else torch.device('cpu')\n",
    "new_config.device = device\n",
    "\n",
    "print(device)"
   ]
  },
  {
   "cell_type": "code",
   "execution_count": null,
   "id": "6f43597a",
   "metadata": {},
   "outputs": [],
   "source": [
    "from models.ncsnv2 import NCSNv2Deepest\n",
    "from models.ema import EMAHelper\n",
    "from models import get_sigmas\n",
    "\n",
    "new_config.input_dim = new_config.data.image_size ** 2 * new_config.data.channels\n",
    "\n",
    "score = NCSNv2Deepest(new_config).to(new_config.device)\n",
    "score = torch.nn.DataParallel(score)\n",
    "\n",
    "#Set up the exponential moving average\n",
    "if new_config.model.ema:\n",
    "    ema_helper = EMAHelper(mu=new_config.model.ema_rate)\n",
    "    ema_helper.register(score)\n",
    "\n",
    "states = torch.load(ckpt_path)\n",
    "score.load_state_dict(states[0])\n",
    "### Make sure we can resume with different eps\n",
    "states[1]['param_groups'][0]['eps'] = new_config.optim.eps\n",
    "\n",
    "if new_config.model.ema:\n",
    "    ema_helper.load_state_dict(states[4])\n",
    "\n",
    "#grab all L noise levels\n",
    "sigmas = get_sigmas(new_config)"
   ]
  },
  {
   "cell_type": "code",
   "execution_count": null,
   "id": "11f26755",
   "metadata": {},
   "outputs": [],
   "source": [
    "test_score = ema_helper.ema_copy(score)\n",
    "\n",
    "test_score.eval()"
   ]
  },
  {
   "cell_type": "code",
   "execution_count": null,
   "id": "685b51ba",
   "metadata": {},
   "outputs": [],
   "source": [
    "from models import langevin_Inverse\n",
    "import time\n",
    "\n",
    "N, C, H, W = noisy_test_sample.shape\n",
    "print(N, C, H, W)\n",
    "\n",
    "y = noisy_test_sample.to(new_config.device)\n",
    "\n",
    "#A = torch.eye(C*H*W, device=new_config.device, dtype=torch.bool)\n",
    "\n",
    "x0 = torch.rand(N, C, H, W, device=new_config.device)\n",
    "\n",
    "mse = torch.nn.MSELoss()\n",
    "mse_start = mse(x0, test_sample.to(new_config.device))\n",
    "print(\"Start MSE: \", mse_start.item())\n",
    "\n",
    "start = time.time()\n",
    "\n",
    "num_iters = 20\n",
    "\n",
    "all_samples = langevin_Inverse(x_mod = x0, \n",
    "                                       y = y, \n",
    "                                       A = None, \n",
    "                                       scorenet = test_score, \n",
    "                                       sigmas = sigmas.cpu().numpy(), \n",
    "                                       n_steps_each=1,\n",
    "                                       step_lr=new_config.sampling.step_lr,\n",
    "                                       final_only=False, \n",
    "                                       verbose=True,\n",
    "                                       denoise=False,\n",
    "                                       add_noise=False, \n",
    "                                       decimate_sigma=1100//num_iters,\n",
    "                                       mode='denoising',\n",
    "                                       true_x=test_sample.to(new_config.device))\n",
    "\n",
    "print(\"\\nTOTAL TIME: \", time.time() - start)"
   ]
  },
  {
   "cell_type": "code",
   "execution_count": null,
   "id": "c1c3d503",
   "metadata": {},
   "outputs": [],
   "source": [
    "sample = x0.cpu()\n",
    "\n",
    "sample = torch.clamp(sample, 0.0, 1.0)\n",
    "\n",
    "grid_img = torchvision.utils.make_grid(sample, nrow=5)\n",
    "\n",
    "dpi = matplotlib.rcParams['figure.dpi']\n",
    "\n",
    "height = width = 6*256\n",
    "figsize = width / float(dpi), height / float(dpi)\n",
    "\n",
    "plt.figure(figsize=figsize)\n",
    "plt.title(\"INITIALISATION\")\n",
    "plt.imshow(grid_img.permute(1, 2, 0))\n",
    "plt.show()\n",
    "\n",
    "for i in range(len(all_samples)):\n",
    "    sample = all_samples[i].view(all_samples[i].shape[0], new_config.data.channels,\n",
    "                                  new_config.data.image_size,\n",
    "                                  new_config.data.image_size)\n",
    "\n",
    "    sample = torch.clamp(sample, 0.0, 1.0)\n",
    "\n",
    "    grid_img = torchvision.utils.make_grid(sample, nrow=5)\n",
    "\n",
    "    dpi = matplotlib.rcParams['figure.dpi']\n",
    "\n",
    "    height = width = 6*256\n",
    "    figsize = width / float(dpi), height / float(dpi)\n",
    "\n",
    "    plt.figure(figsize=figsize)\n",
    "    plt.title(\"ITERATION\" + str(i))\n",
    "    plt.imshow(grid_img.permute(1, 2, 0))\n",
    "    plt.show()"
   ]
  },
  {
   "cell_type": "markdown",
   "id": "47ed5299",
   "metadata": {},
   "source": [
    "print(len(all_samples))\n",
    "\n",
    "print(all_samples[0].shape)"
   ]
  },
  {
   "cell_type": "markdown",
   "id": "206756af",
   "metadata": {},
   "source": [
    "samples_to_save = torch.zeros((len(all_samples) + 3, 15, 1, 256, 256))\n",
    "print(samples_to_save.shape)"
   ]
  },
  {
   "cell_type": "markdown",
   "id": "1cfd2545",
   "metadata": {},
   "source": [
    "samples_to_save[0] = noisy_test_sample.cpu()\n",
    "samples_to_save[1] = x0.cpu()\n",
    "samples_to_save[-1] = test_sample.cpu()"
   ]
  },
  {
   "cell_type": "markdown",
   "id": "64b844c0",
   "metadata": {},
   "source": [
    "for i in range(len(all_samples)):\n",
    "    samples_to_save[i+2] = all_samples[i]"
   ]
  },
  {
   "cell_type": "markdown",
   "id": "8b9e9c8a",
   "metadata": {},
   "source": [
    "for i in range(samples_to_save.shape[0]):\n",
    "    sample = samples_to_save[i].view(samples_to_save[i].shape[0], new_config.data.channels,\n",
    "                                  new_config.data.image_size,\n",
    "                                  new_config.data.image_size)\n",
    "\n",
    "    sample = torch.clamp(sample, 0.0, 1.0)\n",
    "\n",
    "    grid_img = torchvision.utils.make_grid(sample, nrow=5)\n",
    "\n",
    "    dpi = matplotlib.rcParams['figure.dpi']\n",
    "\n",
    "    height = width = 6*256\n",
    "    figsize = width / float(dpi), height / float(dpi)\n",
    "\n",
    "    plt.figure(figsize=figsize)\n",
    "    plt.title(\"ITERATION\" + str(i))\n",
    "    plt.imshow(grid_img.permute(1, 2, 0))\n",
    "    plt.show()"
   ]
  }
 ],
 "metadata": {
  "kernelspec": {
   "display_name": "Python 3",
   "language": "python",
   "name": "python3"
  },
  "language_info": {
   "codemirror_mode": {
    "name": "ipython",
    "version": 3
   },
   "file_extension": ".py",
   "mimetype": "text/x-python",
   "name": "python",
   "nbconvert_exporter": "python",
   "pygments_lexer": "ipython3",
   "version": "3.6.8"
  }
 },
 "nbformat": 4,
 "nbformat_minor": 5
}
